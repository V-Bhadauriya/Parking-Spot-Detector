{
 "cells": [
  {
   "cell_type": "code",
   "execution_count": null,
   "metadata": {},
   "outputs": [],
   "source": [
    "#Installing Packages\n",
    "!apt update && apt install -y git\n",
    "!pip install keras==2.0.0\n",
    "!pip install tensorflow==1.13.1\n",
    "!pip install --upgrade numpy np_utils\n",
    "!pip install Pillow "
   ]
  },
  {
   "cell_type": "code",
   "execution_count": 2,
   "metadata": {},
   "outputs": [
    {
     "name": "stdout",
     "output_type": "stream",
     "text": [
      "1.13.1\n"
     ]
    },
    {
     "name": "stderr",
     "output_type": "stream",
     "text": [
      "Using TensorFlow backend.\n"
     ]
    }
   ],
   "source": [
    "import numpy\n",
    "import os\n",
    "import tensorflow as tf\n",
    "print(tf.__version__)\n",
    "from keras import applications\n",
    "from keras.preprocessing.image import ImageDataGenerator\n",
    "from keras import optimizers\n",
    "from keras.models import Sequential, Model\n",
    "from keras.layers import Dropout, Flatten, Dense, GlobalAveragePooling2D\n",
    "from keras import backend as k\n",
    "from keras.callbacks import ModelCheckpoint, LearningRateScheduler, TensorBoard, EarlyStopping"
   ]
  },
  {
   "cell_type": "markdown",
   "metadata": {},
   "source": [
    "### 1. Load Test and Train Files"
   ]
  },
  {
   "cell_type": "code",
   "execution_count": 3,
   "metadata": {},
   "outputs": [
    {
     "name": "stdout",
     "output_type": "stream",
     "text": [
      "(381, 164)\n"
     ]
    }
   ],
   "source": [
    "files_train = 0\n",
    "files_validation = 0\n",
    "\n",
    "cwd = os.getcwd()\n",
    "folder = 'train_data/train'\n",
    "for sub_folder in os.listdir(folder):\n",
    "    path, dirs, files = next(os.walk(os.path.join(folder,sub_folder)))\n",
    "    files_train += len(files)\n",
    "\n",
    "\n",
    "folder = 'train_data/test'\n",
    "for sub_folder in os.listdir(folder):\n",
    "    path, dirs, files = next(os.walk(os.path.join(folder,sub_folder)))\n",
    "    files_validation += len(files)\n",
    "\n",
    "print(files_train,files_validation)"
   ]
  },
  {
   "cell_type": "markdown",
   "metadata": {},
   "source": [
    "### 2. Set Key Parameters"
   ]
  },
  {
   "cell_type": "code",
   "execution_count": 4,
   "metadata": {},
   "outputs": [],
   "source": [
    "img_width, img_height = 48, 48\n",
    "train_data_dir = \"train_data/train\"\n",
    "validation_data_dir = \"train_data/test\"\n",
    "nb_train_samples = files_train\n",
    "nb_validation_samples = files_validation\n",
    "batch_size = 32\n",
    "epochs = 15\n",
    "num_classes = 2"
   ]
  },
  {
   "cell_type": "markdown",
   "metadata": {},
   "source": [
    "### 3. Build Model On Top of a trained VGG"
   ]
  },
  {
   "cell_type": "code",
   "execution_count": 5,
   "metadata": {},
   "outputs": [
    {
     "name": "stdout",
     "output_type": "stream",
     "text": [
      "WARNING:tensorflow:From /usr/local/lib/python2.7/dist-packages/tensorflow/python/framework/op_def_library.py:263: colocate_with (from tensorflow.python.framework.ops) is deprecated and will be removed in a future version.\n",
      "Instructions for updating:\n",
      "Colocations handled automatically by placer.\n"
     ]
    }
   ],
   "source": [
    "model = applications.VGG16(weights = \"imagenet\", include_top=False, input_shape = (img_width, img_height, 3))\n",
    "# Freeze the layers which you don't want to train. Here I am freezing the first 5 layers.\n",
    "for layer in model.layers[:10]:\n",
    "    layer.trainable = False"
   ]
  },
  {
   "cell_type": "code",
   "execution_count": 6,
   "metadata": {},
   "outputs": [
    {
     "name": "stdout",
     "output_type": "stream",
     "text": [
      "WARNING:tensorflow:From /usr/local/lib/python2.7/dist-packages/keras/backend/tensorflow_backend.py:1062: calling reduce_prod_v1 (from tensorflow.python.ops.math_ops) with keep_dims is deprecated and will be removed in a future version.\n",
      "Instructions for updating:\n",
      "keep_dims is deprecated, use keepdims instead\n",
      "WARNING:tensorflow:From /usr/local/lib/python2.7/dist-packages/keras/backend/tensorflow_backend.py:2550: calling reduce_sum_v1 (from tensorflow.python.ops.math_ops) with keep_dims is deprecated and will be removed in a future version.\n",
      "Instructions for updating:\n",
      "keep_dims is deprecated, use keepdims instead\n"
     ]
    },
    {
     "name": "stderr",
     "output_type": "stream",
     "text": [
      "/usr/local/lib/python2.7/dist-packages/keras/legacy/interfaces.py:86: UserWarning: Update your `Model` call to the Keras 2 API: `Model(outputs=Tensor(\"de..., inputs=Tensor(\"in...)`\n",
      "  '` call to the Keras 2 API: ' + signature)\n"
     ]
    }
   ],
   "source": [
    "x = model.output\n",
    "x = Flatten()(x)\n",
    "# x = Dense(512, activation=\"relu\")(x)\n",
    "# x = Dropout(0.5)(x)\n",
    "# x = Dense(256, activation=\"relu\")(x)\n",
    "# x = Dropout(0.5)(x)\n",
    "predictions = Dense(num_classes, activation=\"softmax\")(x)\n",
    "\n",
    "# creating the final model\n",
    "model_final = Model(input = model.input, output = predictions)\n",
    "\n",
    "# compile the model\n",
    "model_final.compile(loss = \"categorical_crossentropy\", \n",
    "                    optimizer = optimizers.SGD(lr=0.0001, momentum=0.9), \n",
    "                    metrics=[\"accuracy\"]) # See learning rate is very low"
   ]
  },
  {
   "cell_type": "code",
   "execution_count": 7,
   "metadata": {},
   "outputs": [
    {
     "name": "stdout",
     "output_type": "stream",
     "text": [
      "Found 381 images belonging to 2 classes.\n",
      "Found 164 images belonging to 2 classes.\n"
     ]
    }
   ],
   "source": [
    "# Initiate the train and test generators with data Augumentation\n",
    "train_datagen = ImageDataGenerator(\n",
    "rescale = 1./255,\n",
    "horizontal_flip = True,\n",
    "fill_mode = \"nearest\",\n",
    "zoom_range = 0.1,\n",
    "width_shift_range = 0.1,\n",
    "height_shift_range=0.1,\n",
    "rotation_range=5)\n",
    "\n",
    "test_datagen = ImageDataGenerator(\n",
    "rescale = 1./255,\n",
    "horizontal_flip = True,\n",
    "fill_mode = \"nearest\",\n",
    "zoom_range = 0.1,\n",
    "width_shift_range = 0.1,\n",
    "height_shift_range=0.1,\n",
    "rotation_range=5)\n",
    "\n",
    "train_generator = train_datagen.flow_from_directory(\n",
    "train_data_dir,\n",
    "target_size = (img_height, img_width),\n",
    "batch_size = batch_size,\n",
    "class_mode = \"categorical\")\n",
    "\n",
    "validation_generator = test_datagen.flow_from_directory(\n",
    "validation_data_dir,\n",
    "target_size = (img_height, img_width),\n",
    "class_mode = \"categorical\")"
   ]
  },
  {
   "cell_type": "code",
   "execution_count": 8,
   "metadata": {},
   "outputs": [],
   "source": [
    "# Save the model according to the conditions\n",
    "checkpoint = ModelCheckpoint(\"car1.h5\", monitor='val_acc', verbose=1, save_best_only=True, save_weights_only=False, mode='auto', period=1)\n",
    "early = EarlyStopping(monitor='val_acc', min_delta=0, patience=10, verbose=1, mode='auto')\n"
   ]
  },
  {
   "cell_type": "code",
   "execution_count": 9,
   "metadata": {},
   "outputs": [
    {
     "name": "stdout",
     "output_type": "stream",
     "text": [
      "WARNING:tensorflow:From /usr/local/lib/python2.7/dist-packages/tensorflow/python/ops/math_ops.py:3066: to_int32 (from tensorflow.python.ops.math_ops) is deprecated and will be removed in a future version.\n",
      "Instructions for updating:\n",
      "Use tf.cast instead.\n"
     ]
    },
    {
     "name": "stderr",
     "output_type": "stream",
     "text": [
      "/usr/local/lib/python2.7/dist-packages/keras/legacy/interfaces.py:86: UserWarning: Update your `fit_generator` call to the Keras 2 API: `fit_generator(<keras.pre..., validation_data=<keras.pre..., steps_per_epoch=11, epochs=15, callbacks=[<keras.ca..., validation_steps=164)`\n",
      "  '` call to the Keras 2 API: ' + signature)\n"
     ]
    },
    {
     "name": "stdout",
     "output_type": "stream",
     "text": [
      "Epoch 1/15\n",
      "10/11 [==========================>...] - ETA: 3s - loss: 0.5996 - acc: 0.7438Epoch 00000: val_acc improved from -inf to 0.76781, saving model to car1.h5\n",
      "11/11 [==============================] - 189s - loss: 0.5908 - acc: 0.7472 - val_loss: 0.4880 - val_acc: 0.7678\n",
      "Epoch 2/15\n",
      "10/11 [==========================>...] - ETA: 2s - loss: 0.4425 - acc: 0.7471Epoch 00001: val_acc improved from 0.76781 to 0.81812, saving model to car1.h5\n",
      "11/11 [==============================] - 181s - loss: 0.4407 - acc: 0.7502 - val_loss: 0.3541 - val_acc: 0.8181\n",
      "Epoch 3/15\n",
      "10/11 [==========================>...] - ETA: 2s - loss: 0.2829 - acc: 0.9203Epoch 00002: val_acc improved from 0.81812 to 0.88780, saving model to car1.h5\n",
      "11/11 [==============================] - 193s - loss: 0.2803 - acc: 0.9191 - val_loss: 0.2695 - val_acc: 0.8878\n",
      "Epoch 4/15\n",
      "10/11 [==========================>...] - ETA: 3s - loss: 0.2230 - acc: 0.9372Epoch 00003: val_acc improved from 0.88780 to 0.92186, saving model to car1.h5\n",
      "11/11 [==============================] - 196s - loss: 0.2135 - acc: 0.9429 - val_loss: 0.2092 - val_acc: 0.9219\n",
      "Epoch 5/15\n",
      "10/11 [==========================>...] - ETA: 3s - loss: 0.1556 - acc: 0.9500Epoch 00004: val_acc improved from 0.92186 to 0.92654, saving model to car1.h5\n",
      "11/11 [==============================] - 199s - loss: 0.1512 - acc: 0.9517 - val_loss: 0.1809 - val_acc: 0.9265\n",
      "Epoch 6/15\n",
      "10/11 [==========================>...] - ETA: 2s - loss: 0.1235 - acc: 0.9656Epoch 00005: val_acc did not improve\n",
      "11/11 [==============================] - 201s - loss: 0.1198 - acc: 0.9687 - val_loss: 0.1798 - val_acc: 0.9194\n",
      "Epoch 7/15\n",
      "10/11 [==========================>...] - ETA: 2s - loss: 0.0995 - acc: 0.9681Epoch 00006: val_acc improved from 0.92654 to 0.93566, saving model to car1.h5\n",
      "11/11 [==============================] - 184s - loss: 0.0948 - acc: 0.9710 - val_loss: 0.1508 - val_acc: 0.9357\n",
      "Epoch 8/15\n",
      "10/11 [==========================>...] - ETA: 3s - loss: 0.1075 - acc: 0.9650Epoch 00007: val_acc did not improve\n",
      "11/11 [==============================] - 187s - loss: 0.1080 - acc: 0.9653 - val_loss: 0.1553 - val_acc: 0.9312\n",
      "Epoch 9/15\n",
      "10/11 [==========================>...] - ETA: 3s - loss: 0.0904 - acc: 0.9719Epoch 00008: val_acc did not improve\n",
      "11/11 [==============================] - 198s - loss: 0.0852 - acc: 0.9744 - val_loss: 0.1560 - val_acc: 0.9294\n",
      "Epoch 10/15\n",
      "10/11 [==========================>...] - ETA: 2s - loss: 0.0842 - acc: 0.9781Epoch 00009: val_acc did not improve\n",
      "11/11 [==============================] - 198s - loss: 0.0854 - acc: 0.9744 - val_loss: 0.1466 - val_acc: 0.9348\n",
      "Epoch 11/15\n",
      "10/11 [==========================>...] - ETA: 2s - loss: 0.0715 - acc: 0.9747Epoch 00010: val_acc did not improve\n",
      "11/11 [==============================] - 191s - loss: 0.0698 - acc: 0.9770 - val_loss: 0.1419 - val_acc: 0.9348\n",
      "Epoch 12/15\n",
      "10/11 [==========================>...] - ETA: 3s - loss: 0.0706 - acc: 0.9750Epoch 00011: val_acc improved from 0.93566 to 0.93789, saving model to car1.h5\n",
      "11/11 [==============================] - 198s - loss: 0.0692 - acc: 0.9741 - val_loss: 0.1350 - val_acc: 0.9379\n",
      "Epoch 13/15\n",
      "10/11 [==========================>...] - ETA: 2s - loss: 0.0584 - acc: 0.9844Epoch 00012: val_acc did not improve\n",
      "11/11 [==============================] - 193s - loss: 0.0554 - acc: 0.9858 - val_loss: 0.1473 - val_acc: 0.9339\n",
      "Epoch 14/15\n",
      "10/11 [==========================>...] - ETA: 2s - loss: 0.0541 - acc: 0.9841Epoch 00013: val_acc did not improve\n",
      "11/11 [==============================] - 190s - loss: 0.0612 - acc: 0.9798 - val_loss: 0.1482 - val_acc: 0.9328\n",
      "Epoch 15/15\n",
      "10/11 [==========================>...] - ETA: 3s - loss: 0.0413 - acc: 0.9872Epoch 00014: val_acc improved from 0.93789 to 0.94702, saving model to car1.h5\n",
      "11/11 [==============================] - 186s - loss: 0.0429 - acc: 0.9855 - val_loss: 0.1223 - val_acc: 0.9470\n"
     ]
    }
   ],
   "source": [
    "### Start training!\n",
    "\n",
    "history_object = model_final.fit_generator(\n",
    "train_generator,\n",
    "samples_per_epoch = nb_train_samples,\n",
    "epochs = epochs,\n",
    "validation_data = validation_generator,\n",
    "nb_val_samples = nb_validation_samples,\n",
    "callbacks = [checkpoint, early])"
   ]
  },
  {
   "cell_type": "code",
   "execution_count": 14,
   "metadata": {},
   "outputs": [
    {
     "data": {
      "image/png": "[encoded data removed]",
      "text/plain": [
       "<matplotlib.figure.Figure at 0x7fce2d023a50>"
      ]
     },
     "metadata": {},
     "output_type": "display_data"
    }
   ],
   "source": [
    "#Model Accuracy Plot\n",
    "import matplotlib.pyplot as plt\n",
    "#print(history_object.history.keys())\n",
    "plt.plot(history_object.history['acc'])\n",
    "plt.plot(history_object.history['val_acc'])\n",
    "plt.title('model accuracy')\n",
    "plt.ylabel('acc')\n",
    "plt.xlabel('epoch')\n",
    "plt.legend(['train', 'test'], loc='upper left')\n",
    "plt.show()"
   ]
  },
  {
   "cell_type": "code",
   "execution_count": 15,
   "metadata": {},
   "outputs": [
    {
     "data": {
      "image/png": "[encoded data removed]",
      "text/plain": [
       "<matplotlib.figure.Figure at 0x7fce7e3f1690>"
      ]
     },
     "metadata": {},
     "output_type": "display_data"
    }
   ],
   "source": [
    "#Model Loss Plot\n",
    "plt.plot(history_object.history['loss'])\n",
    "plt.plot(history_object.history['val_loss'])\n",
    "plt.title('model loss')\n",
    "plt.ylabel('loss')\n",
    "plt.xlabel('epoch')\n",
    "plt.legend(['train', 'test'], loc='upper left')\n",
    "plt.show()"
   ]
  },
  {
   "cell_type": "code",
   "execution_count": null,
   "metadata": {},
   "outputs": [],
   "source": []
  }
 ],
 "metadata": {
  "kernelspec": {
   "display_name": "Python 2",
   "language": "python",
   "name": "python2"
  },
  "language_info": {
   "codemirror_mode": {
    "name": "ipython",
    "version": 2
   },
   "file_extension": ".py",
   "mimetype": "text/x-python",
   "name": "python",
   "nbconvert_exporter": "python",
   "pygments_lexer": "ipython2",
   "version": "2.7.12"
  }
 },
 "nbformat": 4,
 "nbformat_minor": 2
}
