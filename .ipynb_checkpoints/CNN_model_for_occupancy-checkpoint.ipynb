{
 "cells": [
  {
   "cell_type": "code",
   "execution_count": null,
   "metadata": {},
   "outputs": [],
   "source": [
    "#Installing Packages\n",
    "!pip install keras==2.0.0\n",
    "!pip install tensorflow==1.13.1\n",
    "!pip install --upgrade numpy np_utils\n",
    "!pip install Pillow "
   ]
  },
  {
   "cell_type": "code",
   "execution_count": 1,
   "metadata": {},
   "outputs": [
    {
     "name": "stdout",
     "output_type": "stream",
     "text": [
      "1.13.1\n"
     ]
    },
    {
     "name": "stderr",
     "output_type": "stream",
     "text": [
      "Using TensorFlow backend.\n"
     ]
    }
   ],
   "source": [
    "import numpy\n",
    "import os\n",
    "import tensorflow as tf\n",
    "print(tf.__version__)\n",
    "from keras import applications\n",
    "from keras.preprocessing.image import ImageDataGenerator\n",
    "from keras import optimizers\n",
    "from keras.models import Sequential, Model\n",
    "from keras.layers import Dropout, Flatten, Dense, GlobalAveragePooling2D\n",
    "from keras import backend as k\n",
    "from keras.callbacks import ModelCheckpoint, LearningRateScheduler, TensorBoard, EarlyStopping"
   ]
  },
  {
   "cell_type": "markdown",
   "metadata": {},
   "source": [
    "### 1. Load Test and Train Files"
   ]
  },
  {
   "cell_type": "code",
   "execution_count": 2,
   "metadata": {},
   "outputs": [
    {
     "name": "stdout",
     "output_type": "stream",
     "text": [
      "(381, 164)\n"
     ]
    }
   ],
   "source": [
    "files_train = 0\n",
    "files_validation = 0\n",
    "\n",
    "cwd = os.getcwd()\n",
    "folder = 'train_data/train'\n",
    "for sub_folder in os.listdir(folder):\n",
    "    path, dirs, files = next(os.walk(os.path.join(folder,sub_folder)))\n",
    "    files_train += len(files)\n",
    "\n",
    "\n",
    "folder = 'train_data/test'\n",
    "for sub_folder in os.listdir(folder):\n",
    "    path, dirs, files = next(os.walk(os.path.join(folder,sub_folder)))\n",
    "    files_validation += len(files)\n",
    "\n",
    "print(files_train,files_validation)"
   ]
  },
  {
   "cell_type": "markdown",
   "metadata": {},
   "source": [
    "### 2. Set key parameters"
   ]
  },
  {
   "cell_type": "code",
   "execution_count": 3,
   "metadata": {},
   "outputs": [],
   "source": [
    "img_width, img_height = 48, 48\n",
    "train_data_dir = \"train_data/train\"\n",
    "validation_data_dir = \"train_data/test\"\n",
    "nb_train_samples = files_train\n",
    "nb_validation_samples = files_validation\n",
    "batch_size = 32\n",
    "epochs = 15\n",
    "num_classes = 2"
   ]
  },
  {
   "cell_type": "markdown",
   "metadata": {},
   "source": [
    "### 3. Build model on top of a trained VGG"
   ]
  },
  {
   "cell_type": "code",
   "execution_count": 4,
   "metadata": {},
   "outputs": [
    {
     "name": "stdout",
     "output_type": "stream",
     "text": [
      "WARNING:tensorflow:From /usr/local/lib/python2.7/dist-packages/tensorflow/python/framework/op_def_library.py:263: colocate_with (from tensorflow.python.framework.ops) is deprecated and will be removed in a future version.\n",
      "Instructions for updating:\n",
      "Colocations handled automatically by placer.\n"
     ]
    }
   ],
   "source": [
    "model = applications.VGG16(weights = \"imagenet\", include_top=False, input_shape = (img_width, img_height, 3))\n",
    "# Freeze the layers which you don't want to train. Here I am freezing the first 5 layers.\n",
    "for layer in model.layers[:10]:\n",
    "    layer.trainable = False"
   ]
  },
  {
   "cell_type": "code",
   "execution_count": 5,
   "metadata": {},
   "outputs": [
    {
     "name": "stdout",
     "output_type": "stream",
     "text": [
      "WARNING:tensorflow:From /usr/local/lib/python2.7/dist-packages/keras/backend/tensorflow_backend.py:1062: calling reduce_prod_v1 (from tensorflow.python.ops.math_ops) with keep_dims is deprecated and will be removed in a future version.\n",
      "Instructions for updating:\n",
      "keep_dims is deprecated, use keepdims instead\n",
      "WARNING:tensorflow:From /usr/local/lib/python2.7/dist-packages/keras/backend/tensorflow_backend.py:2550: calling reduce_sum_v1 (from tensorflow.python.ops.math_ops) with keep_dims is deprecated and will be removed in a future version.\n",
      "Instructions for updating:\n",
      "keep_dims is deprecated, use keepdims instead\n"
     ]
    },
    {
     "name": "stderr",
     "output_type": "stream",
     "text": [
      "/usr/local/lib/python2.7/dist-packages/keras/legacy/interfaces.py:86: UserWarning: Update your `Model` call to the Keras 2 API: `Model(outputs=Tensor(\"de..., inputs=Tensor(\"in...)`\n",
      "  '` call to the Keras 2 API: ' + signature)\n"
     ]
    }
   ],
   "source": [
    "x = model.output\n",
    "x = Flatten()(x)\n",
    "# x = Dense(512, activation=\"relu\")(x)\n",
    "# x = Dropout(0.5)(x)\n",
    "# x = Dense(256, activation=\"relu\")(x)\n",
    "# x = Dropout(0.5)(x)\n",
    "predictions = Dense(num_classes, activation=\"softmax\")(x)\n",
    "\n",
    "# creating the final model\n",
    "model_final = Model(input = model.input, output = predictions)\n",
    "\n",
    "# compile the model\n",
    "model_final.compile(loss = \"categorical_crossentropy\", \n",
    "                    optimizer = optimizers.SGD(lr=0.0001, momentum=0.9), \n",
    "                    metrics=[\"accuracy\"]) # See learning rate is very low"
   ]
  },
  {
   "cell_type": "code",
   "execution_count": 6,
   "metadata": {},
   "outputs": [
    {
     "name": "stdout",
     "output_type": "stream",
     "text": [
      "Found 381 images belonging to 2 classes.\n",
      "Found 164 images belonging to 2 classes.\n"
     ]
    }
   ],
   "source": [
    "# Initiate the train and test generators with data Augumentation\n",
    "train_datagen = ImageDataGenerator(\n",
    "rescale = 1./255,\n",
    "horizontal_flip = True,\n",
    "fill_mode = \"nearest\",\n",
    "zoom_range = 0.1,\n",
    "width_shift_range = 0.1,\n",
    "height_shift_range=0.1,\n",
    "rotation_range=5)\n",
    "\n",
    "test_datagen = ImageDataGenerator(\n",
    "rescale = 1./255,\n",
    "horizontal_flip = True,\n",
    "fill_mode = \"nearest\",\n",
    "zoom_range = 0.1,\n",
    "width_shift_range = 0.1,\n",
    "height_shift_range=0.1,\n",
    "rotation_range=5)\n",
    "\n",
    "train_generator = train_datagen.flow_from_directory(\n",
    "train_data_dir,\n",
    "target_size = (img_height, img_width),\n",
    "batch_size = batch_size,\n",
    "class_mode = \"categorical\")\n",
    "\n",
    "validation_generator = test_datagen.flow_from_directory(\n",
    "validation_data_dir,\n",
    "target_size = (img_height, img_width),\n",
    "class_mode = \"categorical\")"
   ]
  },
  {
   "cell_type": "code",
   "execution_count": 7,
   "metadata": {},
   "outputs": [],
   "source": [
    "# Save the model according to the conditions\n",
    "checkpoint = ModelCheckpoint(\"car1.h5\", monitor='val_acc', verbose=1, save_best_only=True, save_weights_only=False, mode='auto', period=1)\n",
    "early = EarlyStopping(monitor='val_acc', min_delta=0, patience=10, verbose=1, mode='auto')\n"
   ]
  },
  {
   "cell_type": "code",
   "execution_count": 8,
   "metadata": {},
   "outputs": [
    {
     "name": "stdout",
     "output_type": "stream",
     "text": [
      "WARNING:tensorflow:From /usr/local/lib/python2.7/dist-packages/tensorflow/python/ops/math_ops.py:3066: to_int32 (from tensorflow.python.ops.math_ops) is deprecated and will be removed in a future version.\n",
      "Instructions for updating:\n",
      "Use tf.cast instead.\n"
     ]
    },
    {
     "name": "stderr",
     "output_type": "stream",
     "text": [
      "/usr/local/lib/python2.7/dist-packages/keras/legacy/interfaces.py:86: UserWarning: Update your `fit_generator` call to the Keras 2 API: `fit_generator(<keras.pre..., validation_data=<keras.pre..., steps_per_epoch=11, epochs=15, callbacks=[<keras.ca..., validation_steps=164)`\n",
      "  '` call to the Keras 2 API: ' + signature)\n"
     ]
    },
    {
     "name": "stdout",
     "output_type": "stream",
     "text": [
      "Epoch 1/15\n",
      "10/11 [==========================>...] - ETA: 2s - loss: 0.6705 - acc: 0.5469Epoch 00000: val_acc improved from -inf to 0.77315, saving model to car1.h5\n",
      "11/11 [==============================] - 172s - loss: 0.6426 - acc: 0.5710 - val_loss: 0.4225 - val_acc: 0.7732\n",
      "Epoch 2/15\n",
      "10/11 [==========================>...] - ETA: 2s - loss: 0.3716 - acc: 0.7821Epoch 00001: val_acc improved from 0.77315 to 0.87066, saving model to car1.h5\n",
      "11/11 [==============================] - 168s - loss: 0.3708 - acc: 0.7821 - val_loss: 0.3162 - val_acc: 0.8707\n",
      "Epoch 3/15\n",
      "10/11 [==========================>...] - ETA: 2s - loss: 0.2327 - acc: 0.9372Epoch 00002: val_acc improved from 0.87066 to 0.90739, saving model to car1.h5\n",
      "11/11 [==============================] - 168s - loss: 0.2273 - acc: 0.9400 - val_loss: 0.2521 - val_acc: 0.9074\n",
      "Epoch 4/15\n",
      "10/11 [==========================>...] - ETA: 2s - loss: 0.2162 - acc: 0.9303Epoch 00003: val_acc did not improve\n",
      "11/11 [==============================] - 168s - loss: 0.2082 - acc: 0.9338 - val_loss: 0.2331 - val_acc: 0.9000\n",
      "Epoch 5/15\n",
      "10/11 [==========================>...] - ETA: 2s - loss: 0.1405 - acc: 0.9497Epoch 00004: val_acc did not improve\n",
      "11/11 [==============================] - 170s - loss: 0.1461 - acc: 0.9457 - val_loss: 0.2223 - val_acc: 0.9038\n",
      "Epoch 6/15\n",
      "10/11 [==========================>...] - ETA: 2s - loss: 0.1202 - acc: 0.9681Epoch 00005: val_acc improved from 0.90739 to 0.91496, saving model to car1.h5\n",
      "11/11 [==============================] - 195s - loss: 0.1168 - acc: 0.9682 - val_loss: 0.1980 - val_acc: 0.9150\n",
      "Epoch 7/15\n",
      "10/11 [==========================>...] - ETA: 2s - loss: 0.1058 - acc: 0.9656Epoch 00006: val_acc did not improve\n",
      "11/11 [==============================] - 193s - loss: 0.1004 - acc: 0.9687 - val_loss: 0.2244 - val_acc: 0.9063\n",
      "Epoch 8/15\n",
      "10/11 [==========================>...] - ETA: 2s - loss: 0.1105 - acc: 0.9750Epoch 00007: val_acc improved from 0.91496 to 0.91719, saving model to car1.h5\n",
      "11/11 [==============================] - 177s - loss: 0.1078 - acc: 0.9744 - val_loss: 0.1940 - val_acc: 0.9172\n",
      "Epoch 9/15\n",
      "10/11 [==========================>...] - ETA: 2s - loss: 0.0879 - acc: 0.9653Epoch 00008: val_acc did not improve\n",
      "11/11 [==============================] - 176s - loss: 0.0830 - acc: 0.9685 - val_loss: 0.1810 - val_acc: 0.9161\n",
      "Epoch 10/15\n",
      "10/11 [==========================>...] - ETA: 3s - loss: 0.0774 - acc: 0.9778Epoch 00009: val_acc did not improve\n",
      "11/11 [==============================] - 195s - loss: 0.0911 - acc: 0.9713 - val_loss: 0.2031 - val_acc: 0.9145\n",
      "Epoch 11/15\n",
      "10/11 [==========================>...] - ETA: 2s - loss: 0.0917 - acc: 0.9781Epoch 00010: val_acc did not improve\n",
      "11/11 [==============================] - 185s - loss: 0.0865 - acc: 0.9801 - val_loss: 0.2026 - val_acc: 0.9098\n",
      "Epoch 12/15\n",
      "10/11 [==========================>...] - ETA: 2s - loss: 0.0755 - acc: 0.9719Epoch 00011: val_acc improved from 0.91719 to 0.92008, saving model to car1.h5\n",
      "11/11 [==============================] - 174s - loss: 0.0733 - acc: 0.9713 - val_loss: 0.1846 - val_acc: 0.9201\n",
      "Epoch 13/15\n",
      "10/11 [==========================>...] - ETA: 2s - loss: 0.0681 - acc: 0.9781Epoch 00012: val_acc did not improve\n",
      "11/11 [==============================] - 165s - loss: 0.0640 - acc: 0.9801 - val_loss: 0.1920 - val_acc: 0.9161\n",
      "Epoch 14/15\n",
      "10/11 [==========================>...] - ETA: 2s - loss: 0.0725 - acc: 0.9778Epoch 00013: val_acc did not improve\n",
      "11/11 [==============================] - 164s - loss: 0.0858 - acc: 0.9741 - val_loss: 0.1809 - val_acc: 0.9185\n",
      "Epoch 15/15\n",
      "10/11 [==========================>...] - ETA: 2s - loss: 0.0636 - acc: 0.9778Epoch 00014: val_acc improved from 0.92008 to 0.92186, saving model to car1.h5\n",
      "11/11 [==============================] - 164s - loss: 0.0644 - acc: 0.9798 - val_loss: 0.1752 - val_acc: 0.9219\n"
     ]
    }
   ],
   "source": [
    "### Start training!\n",
    "\n",
    "history_object = model_final.fit_generator(\n",
    "train_generator,\n",
    "samples_per_epoch = nb_train_samples,\n",
    "epochs = epochs,\n",
    "validation_data = validation_generator,\n",
    "nb_val_samples = nb_validation_samples,\n",
    "callbacks = [checkpoint, early])"
   ]
  },
  {
   "cell_type": "code",
   "execution_count": 10,
   "metadata": {},
   "outputs": [
    {
     "name": "stdout",
     "output_type": "stream",
     "text": [
      "['acc', 'loss', 'val_acc', 'val_loss']\n"
     ]
    },
    {
     "data": {
      "image/png": "[encoded data removed]",
      "text/plain": [
       "<matplotlib.figure.Figure at 0x7f15ff588850>"
      ]
     },
     "metadata": {},
     "output_type": "display_data"
    }
   ],
   "source": [
    "import matplotlib.pyplot as plt\n",
    "print(history_object.history.keys())\n",
    "plt.plot(history_object.history['acc'])\n",
    "plt.plot(history_object.history['val_acc'])\n",
    "plt.title('model accuracy')\n",
    "plt.ylabel('acc')\n",
    "plt.xlabel('epoch')\n",
    "plt.legend(['train', 'test'], loc='upper left')\n",
    "plt.show()"
   ]
  },
  {
   "cell_type": "code",
   "execution_count": 11,
   "metadata": {},
   "outputs": [
    {
     "data": {
      "image/png": "[encoded data removed]",
      "text/plain": [
       "<matplotlib.figure.Figure at 0x7f15b423c850>"
      ]
     },
     "metadata": {},
     "output_type": "display_data"
    }
   ],
   "source": [
    "plt.plot(history_object.history['loss'])\n",
    "plt.plot(history_object.history['val_loss'])\n",
    "plt.title('model loss')\n",
    "plt.ylabel('loss')\n",
    "plt.xlabel('epoch')\n",
    "plt.legend(['train', 'test'], loc='upper left')\n",
    "plt.show()"
   ]
  },
  {
   "cell_type": "code",
   "execution_count": null,
   "metadata": {},
   "outputs": [],
   "source": []
  }
 ],
 "metadata": {
  "kernelspec": {
   "display_name": "Python 2",
   "language": "python",
   "name": "python2"
  },
  "language_info": {
   "codemirror_mode": {
    "name": "ipython",
    "version": 2
   },
   "file_extension": ".py",
   "mimetype": "text/x-python",
   "name": "python",
   "nbconvert_exporter": "python",
   "pygments_lexer": "ipython2",
   "version": "2.7.12"
  }
 },
 "nbformat": 4,
 "nbformat_minor": 2
}
